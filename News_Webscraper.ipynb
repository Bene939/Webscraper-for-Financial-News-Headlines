{
  "nbformat": 4,
  "nbformat_minor": 0,
  "metadata": {
    "colab": {
      "name": "News Webscraper.ipynb",
      "provenance": [],
      "collapsed_sections": []
    },
    "kernelspec": {
      "name": "python3",
      "display_name": "Python 3"
    }
  },
  "cells": [
    {
      "cell_type": "code",
      "metadata": {
        "id": "X8FDVMxM56zp",
        "colab_type": "code",
        "colab": {
          "base_uri": "https://localhost:8080/",
          "height": 274
        },
        "outputId": "f240d641-a40e-464e-d99f-567e12daef34"
      },
      "source": [
        "!pip install requests\n",
        "!pip install bs4\n",
        "!pip install pandas\n",
        "!pip install pathlib"
      ],
      "execution_count": 14,
      "outputs": [
        {
          "output_type": "stream",
          "text": [
            "Requirement already satisfied: requests in /usr/local/lib/python3.6/dist-packages (2.23.0)\n",
            "Requirement already satisfied: chardet<4,>=3.0.2 in /usr/local/lib/python3.6/dist-packages (from requests) (3.0.4)\n",
            "Requirement already satisfied: certifi>=2017.4.17 in /usr/local/lib/python3.6/dist-packages (from requests) (2020.6.20)\n",
            "Requirement already satisfied: urllib3!=1.25.0,!=1.25.1,<1.26,>=1.21.1 in /usr/local/lib/python3.6/dist-packages (from requests) (1.24.3)\n",
            "Requirement already satisfied: idna<3,>=2.5 in /usr/local/lib/python3.6/dist-packages (from requests) (2.10)\n",
            "Requirement already satisfied: bs4 in /usr/local/lib/python3.6/dist-packages (0.0.1)\n",
            "Requirement already satisfied: beautifulsoup4 in /usr/local/lib/python3.6/dist-packages (from bs4) (4.6.3)\n",
            "Requirement already satisfied: pandas in /usr/local/lib/python3.6/dist-packages (1.0.5)\n",
            "Requirement already satisfied: numpy>=1.13.3 in /usr/local/lib/python3.6/dist-packages (from pandas) (1.18.5)\n",
            "Requirement already satisfied: pytz>=2017.2 in /usr/local/lib/python3.6/dist-packages (from pandas) (2018.9)\n",
            "Requirement already satisfied: python-dateutil>=2.6.1 in /usr/local/lib/python3.6/dist-packages (from pandas) (2.8.1)\n",
            "Requirement already satisfied: six>=1.5 in /usr/local/lib/python3.6/dist-packages (from python-dateutil>=2.6.1->pandas) (1.15.0)\n",
            "Requirement already satisfied: pathlib in /usr/local/lib/python3.6/dist-packages (1.0.1)\n"
          ],
          "name": "stdout"
        }
      ]
    },
    {
      "cell_type": "code",
      "metadata": {
        "id": "yGBmWL4z6Ks9",
        "colab_type": "code",
        "colab": {}
      },
      "source": [
        "import requests\n",
        "from bs4 import BeautifulSoup\n",
        "import pandas as pd\n",
        "from pathlib import Path\n",
        "import re"
      ],
      "execution_count": 15,
      "outputs": []
    },
    {
      "cell_type": "code",
      "metadata": {
        "id": "sNkyVJS-6RlN",
        "colab_type": "code",
        "colab": {}
      },
      "source": [
        "#function that takes url and returns a list of headlines\n",
        "def get_headlines(url):\n",
        "  pattern = r\"(https://finviz.com/quote.ashx\\?t=.*)\"\n",
        "  agent = {\"User-Agent\":\"Mozilla/5.0\"}\n",
        "  page = requests.get(url, headers = agent).text\n",
        "  bs = BeautifulSoup(page)\n",
        "\n",
        "  if url == \"https://finviz.com/news.ashx\":\n",
        "    headlines = bs.find_all(\"a\", class_=\"nn-tab-link\")\n",
        "    #delete all non-news items\n",
        "    del headlines[91:]\n",
        "    del headlines[0]\n",
        "    return headlines\n",
        "  elif re.match(pattern, url):\n",
        "    headlines = bs.find_all(\"a\", class_=\"tab-link-news\")\n",
        "    return headlines\n",
        "  else:\n",
        "    print(\"This URL is not supported!\")\n",
        "    return None\n"
      ],
      "execution_count": 16,
      "outputs": []
    },
    {
      "cell_type": "code",
      "metadata": {
        "id": "DPh9cHY86r4Z",
        "colab_type": "code",
        "colab": {}
      },
      "source": [
        "#takes headlines and returns it as data frame\n",
        "def headlines_to_df(headlines):\n",
        "  news_sentiment_df = pd.DataFrame(columns=[\"news\", \"sentiment\"])\n",
        "  count = 0\n",
        "  for ele in headlines:\n",
        "    row = [ele.get_text(), 0.0]\n",
        "    news_sentiment_df.loc[len(news_sentiment_df)] = row\n",
        "    count += 1\n",
        "  return news_sentiment_df\n"
      ],
      "execution_count": 17,
      "outputs": []
    },
    {
      "cell_type": "code",
      "metadata": {
        "id": "72oD0ifH7KII",
        "colab_type": "code",
        "colab": {}
      },
      "source": [
        "#takes data frame & appends it to csv\n",
        "def append_df(news_sentiment_df):\n",
        "  file_name = \"news_headlines.csv\"\n",
        "  my_file = Path(file_name)\n",
        "  if my_file.exists():\n",
        "    print(\"Appending to existing file named \" + file_name)\n",
        "    orig_df = pd.read_csv(file_name)\n",
        "    #print(\"Old Data Frame: \")\n",
        "    #print(orig_df)\n",
        "    new_df = pd.concat([orig_df, news_sentiment_df], ignore_index=True).drop_duplicates()\n",
        "    #print(\"New Data Frame: \")\n",
        "    #print(new_df)\n",
        "    new_df.to_csv(file_name, index=False, header = True, encoding='utf-8-sig')\n",
        "\n",
        "        \n",
        "  else:\n",
        "    print(\"Creating new file named\" + file_name)\n",
        "    news_sentiment_df.to_csv(file_name, index=False, header = True, encoding='utf-8-sig')"
      ],
      "execution_count": 18,
      "outputs": []
    },
    {
      "cell_type": "code",
      "metadata": {
        "id": "AmnMWsVUnSm-",
        "colab_type": "code",
        "colab": {
          "base_uri": "https://localhost:8080/",
          "height": 326
        },
        "outputId": "fd0550b7-6728-4c6a-ab19-8cc913968bc4"
      },
      "source": [
        "finviz_url = \"https://finviz.com/news.ashx\"\n",
        "ticker_url = \"https://finviz.com/quote.ashx?t=\"\n",
        "ticker_list = [\"AAPL\", \"MSFT\", \"DIS\", \"INTC\", \"JNJ\", \"JPM\", \"KO\", \"O\", \"PFE\", \"XOM\", \"SPG\", \"T\", \"UN\", \"WM\", \"RDS-A\"]\n",
        "url_list = [finviz_url]\n",
        "for ticker in ticker_list:\n",
        "  url_list.append(ticker_url+ticker)\n",
        "print(\"Start Updating File\")\n",
        "for url in url_list:\n",
        "  headlines = get_headlines(url)\n",
        "  append_df(headlines_to_df(headlines))\n",
        "print(\"Update Completed\")"
      ],
      "execution_count": 19,
      "outputs": [
        {
          "output_type": "stream",
          "text": [
            "Appending to existing file named news_headlines.csv\n",
            "Appending to existing file named news_headlines.csv\n",
            "Appending to existing file named news_headlines.csv\n",
            "Appending to existing file named news_headlines.csv\n",
            "Appending to existing file named news_headlines.csv\n",
            "Appending to existing file named news_headlines.csv\n",
            "Appending to existing file named news_headlines.csv\n",
            "Appending to existing file named news_headlines.csv\n",
            "Appending to existing file named news_headlines.csv\n",
            "Appending to existing file named news_headlines.csv\n",
            "Appending to existing file named news_headlines.csv\n",
            "Appending to existing file named news_headlines.csv\n",
            "Appending to existing file named news_headlines.csv\n",
            "Appending to existing file named news_headlines.csv\n",
            "Appending to existing file named news_headlines.csv\n",
            "Appending to existing file named news_headlines.csv\n",
            "Finished\n"
          ],
          "name": "stdout"
        }
      ]
    },
    {
      "cell_type": "code",
      "metadata": {
        "id": "S9l5TbVP1bGO",
        "colab_type": "code",
        "colab": {}
      },
      "source": [
        ""
      ],
      "execution_count": 19,
      "outputs": []
    }
  ]
}